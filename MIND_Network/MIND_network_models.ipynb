{
 "cells": [
  {
   "cell_type": "code",
   "execution_count": 1,
   "metadata": {},
   "outputs": [
    {
     "name": "stdout",
     "output_type": "stream",
     "text": [
      "Working directory set to: /Users/melinatsotras/Desktop/submission\n"
     ]
    }
   ],
   "source": [
    "import sys\n",
    "import os\n",
    "from pathlib import Path\n",
    "\n",
    "# For Jupyter or interactive use — use current working directory as script base\n",
    "notebook_path = Path().resolve()\n",
    "\n",
    "# Assume notebook is in a subfolder of the repo — go up one level\n",
    "file_dir = notebook_path.parent\n",
    "\n",
    "# Set working directory to the repo root\n",
    "os.chdir(file_dir)\n",
    "print(\"Working directory set to:\", Path.cwd())\n",
    "\n",
    "sys.path.append(str(file_dir))\n",
    "\n",
    "import pandas as pd\n",
    "import numpy as np\n",
    "\n",
    "data_dir =file_dir / 'data'"
   ]
  },
  {
   "cell_type": "markdown",
   "metadata": {},
   "source": [
    "### Load MINDs and create average MIND"
   ]
  },
  {
   "cell_type": "code",
   "execution_count": 2,
   "metadata": {},
   "outputs": [],
   "source": [
    "demographics = pd.read_csv(f'{data_dir}/demographics_v2.csv')\n"
   ]
  },
  {
   "cell_type": "code",
   "execution_count": null,
   "metadata": {},
   "outputs": [],
   "source": [
    "MIND_dict = {}\n",
    "subs = demographics.subject.to_list()\n",
    "for subject in subs:\n",
    "    temp = pd.read_csv(f'{file_dir}/MIND_Network/MIND_output/{subject}_MIND_sa_vol_mc_gc_sd_ct_ratio.csv').rename(columns={'Unnamed: 0':'region'}).set_index('region')\n",
    "\n",
    "    MIND_dict[subject] = temp\n",
    "    \n",
    "regions = MIND_dict[subject].columns"
   ]
  },
  {
   "cell_type": "markdown",
   "metadata": {},
   "source": [
    "### Functional Network Dict"
   ]
  },
  {
   "cell_type": "code",
   "execution_count": 4,
   "metadata": {},
   "outputs": [],
   "source": [
    "\n",
    "\n",
    "# Derive unique region IDs by removing the hemisphere suffix (_l or _r)\n",
    "region_ids = [region[:-2] for region in regions[:len(regions) // 2]]\n",
    "\n",
    "# Load the D99-to-Yeo network lookup table\n",
    "lookup_path = data_dir / \"d99_to_yeo_network_labels.csv\"\n",
    "d99_to_yeo_df = pd.read_csv(lookup_path).drop(columns=[\"Unnamed: 0\"])\n",
    "d99_to_yeo_df = d99_to_yeo_df[[\"D99\", \"D99_abbr\", \"yeo_label\"]]\n",
    "\n",
    "# Filter to only region IDs present in your dataset\n",
    "d99_to_yeo_df = d99_to_yeo_df[d99_to_yeo_df[\"D99\"].astype(str).isin(region_ids)]\n"
   ]
  },
  {
   "cell_type": "markdown",
   "metadata": {},
   "source": [
    "### Regressions"
   ]
  },
  {
   "cell_type": "code",
   "execution_count": null,
   "metadata": {},
   "outputs": [],
   "source": [
    "# Initialize a DataFrame to hold mean strength values for each region and subject\n",
    "similarity_strength_df = pd.DataFrame(0, columns=MIND_dict.keys(), index=regions)\n",
    "\n",
    "# Calculate mean strength per region, excluding self-connections, for each subject\n",
    "for subject_id, mind_matrix in MIND_dict.items():\n",
    "    # Convert subject's MIND matrix to NumPy array for processing\n",
    "    mind_array = mind_matrix.to_numpy()\n",
    "\n",
    "    # Exclude self-connections by setting diagonal elements to NaN\n",
    "    np.fill_diagonal(mind_array, np.nan)\n",
    "\n",
    "    # Align DataFrame index with the MIND matrix index\n",
    "    similarity_strength_df = similarity_strength_df.loc[mind_matrix.index]\n",
    "\n",
    "    # Compute the mean strength per region (ignoring NaNs) and assign to the subject's column\n",
    "    similarity_strength_df[subject_id] = np.nanmean(mind_array, axis=1)\n",
    "\n",
    "# Sort subjects by age according to the demographics DataFrame\n",
    "sorted_subjects = demographics.sort_values('age', ascending=True)['subject'].tolist()\n",
    "\n",
    "# Reorder columns in mean_strength_df to match sorted subjects\n",
    "similarity_strength_df = similarity_strength_df[sorted_subjects]\n",
    "similarity_strength_df.head()"
   ]
  },
  {
   "cell_type": "markdown",
   "metadata": {},
   "source": [
    "### Create Dataframe to Used for lme in R"
   ]
  },
  {
   "cell_type": "code",
   "execution_count": 6,
   "metadata": {},
   "outputs": [],
   "source": [
    "# Fetch demographic data for merging\n",
    "\n",
    "n_subjects = len(similarity_strength_df.columns)  # Number of subjects\n",
    "\n",
    "region_list = []\n",
    "subject_list = []\n",
    "hemi_list = []\n",
    "value_list = []\n",
    "\n",
    "# Iterate over unique regions and gather hemisphere-specific values\n",
    "for region in region_ids:\n",
    "    # Add region id twice per subject (left and right hemisphere)\n",
    "    region_list.extend([int(region)] * 2 * n_subjects)\n",
    "    \n",
    "    # Repeat subjects twice (once for each hemisphere)\n",
    "    subject_list.extend(list(similarity_strength_df.columns) * 2)\n",
    "    \n",
    "    # Hemisphere labels: left for first n_subjects, right for next n_subjects\n",
    "    hemi_list.extend(['left'] * n_subjects + ['right'] * n_subjects)\n",
    "    \n",
    "    # Extract left and right hemisphere values for the current region\n",
    "    left_values = similarity_strength_df.loc[f'{region}_l'].to_numpy().flatten()\n",
    "    right_values = similarity_strength_df.loc[f'{region}_r'].to_numpy().flatten()\n",
    "    \n",
    "    # Combine left and right hemisphere values\n",
    "    value_list.extend(np.concatenate([left_values, right_values]))\n",
    "\n",
    "# Create a tidy DataFrame suitable for analysis or modeling\n",
    "data = pd.DataFrame({\n",
    "    'subject': subject_list,\n",
    "    'value': value_list,\n",
    "    'hemi': hemi_list,\n",
    "    'region': region_list\n",
    "})\n",
    "\n",
    "# Merge with demographics (age, sex)\n",
    "data = data.merge(demographics, on='subject', how='left')\n",
    "\n",
    "# Merge with Yeo network labels (make sure d99_to_yeo_df is loaded and contains these columns)\n",
    "data = data.merge(\n",
    "    d99_to_yeo_df[['D99', 'yeo_label']].rename(columns={'D99': 'region'}),\n",
    "    on='region',\n",
    "    how='left'\n",
    ")\n",
    "\n",
    "# save the resulting dataset\n",
    "file_name = f\"{file_dir}/MIND_Network/similarity_strength_subject_data.csv\"\n",
    "#data.to_csv(file_name)\n",
    "\n",
    "# Optional: demean values by Yeo label\n",
    "#data['value_demeaned'] = data['value'] - data.groupby('yeo_label')['value'].transform('mean')\n"
   ]
  }
 ],
 "metadata": {
  "kernelspec": {
   "display_name": "macaque-env",
   "language": "python",
   "name": "python3"
  },
  "language_info": {
   "codemirror_mode": {
    "name": "ipython",
    "version": 3
   },
   "file_extension": ".py",
   "mimetype": "text/x-python",
   "name": "python",
   "nbconvert_exporter": "python",
   "pygments_lexer": "ipython3",
   "version": "3.9.23"
  }
 },
 "nbformat": 4,
 "nbformat_minor": 2
}
